{
 "cells": [
  {
   "cell_type": "code",
   "execution_count": 1,
   "metadata": {
    "collapsed": true
   },
   "outputs": [],
   "source": [
    "import sys\n",
    "import numpy as np\n",
    "filename = 'Dataset.csv'\n",
    "\n",
    "nbLignes = 0\n",
    "\n",
    "X_train=[]\n",
    "Y_train=[]\n",
    "\n",
    "for line in open(filename,\"r\"):\n",
    "    ligne=line.split(',')\n",
    "    text=''\n",
    "    for i in range(3,len(ligne)):\n",
    "        if (i!=len(ligne)-1):\n",
    "            text=text+ligne[i]+\",\"\n",
    "        else:\n",
    "            text+=ligne[i]\n",
    "    X_train.append(text)\n",
    "    Y_train.append(ligne[1])\n",
    "    nbLignes=nbLignes+1\n",
    "    \n",
    "X_train=np.asarray(X_train)\n",
    "Y_train=np.asarray(Y_train)\n",
    "\n",
    "X_test=X_train[-100000:]\n",
    "Y_test=Y_train[-100000:]\n",
    "\n",
    "X_train=X_train[1:100001]\n",
    "Y_train=Y_train[1:100001]"
   ]
  },
  {
   "cell_type": "code",
   "execution_count": 2,
   "metadata": {
    "collapsed": true
   },
   "outputs": [],
   "source": [
    "def get_word(x):\n",
    "    word=\"\"\n",
    "    word_list=[]\n",
    "    flag=True\n",
    "    for i in range(len(x)):\n",
    "        if x[i].isalpha() or x[i]==\"@\" or x[i]==\"&\":\n",
    "            if flag:\n",
    "                word+=x[i]\n",
    "                if i+1==len(x):\n",
    "                    word_list.append(word)\n",
    "            else:\n",
    "                flag=True\n",
    "                word+=x[i]\n",
    "\n",
    "        else:\n",
    "            flag=False\n",
    "            if word!=\"\":\n",
    "                word_list.append(word)\n",
    "            word=\"\"\n",
    "        if word==\"http\" or word==\"www\":\n",
    "            word_list.append(x)\n",
    "            break\n",
    "    return word_list"
   ]
  },
  {
   "cell_type": "code",
   "execution_count": 3,
   "metadata": {
    "collapsed": true
   },
   "outputs": [],
   "source": [
    "dictionary={}\n",
    "dictionary_inverse={}\n",
    "couts=[]\n",
    "k=0\n",
    "for sentense in X_train:\n",
    "    word_list=get_word(sentense)\n",
    "    for word in word_list:\n",
    "        if word not in dictionary:\n",
    "            dictionary[word]=k\n",
    "            k+=1\n",
    "            dictionary_inverse[k]=word\n",
    "            couts.append(1)\n",
    "        else:\n",
    "            index=dictionary[word]\n",
    "            couts[index]+=1"
   ]
  },
  {
   "cell_type": "code",
   "execution_count": 4,
   "metadata": {
    "collapsed": true
   },
   "outputs": [],
   "source": [
    "new_dictionary={}\n",
    "new_dictionary_inverse={}\n",
    "k=1\n",
    "for i in range(len(couts)):\n",
    "    if (couts[i]>20):\n",
    "        if (couts[i]<10000):\n",
    "            word=dictionary_inverse[i]\n",
    "            new_dictionary[word]=k\n",
    "            new_dictionary_inverse[k]=word\n",
    "            k+=1"
   ]
  },
  {
   "cell_type": "code",
   "execution_count": 5,
   "metadata": {
    "collapsed": true
   },
   "outputs": [],
   "source": [
    "def change_into_number(sentense):\n",
    "    word_list=get_word(sentense)\n",
    "    l=[]\n",
    "    for i in range(len(word_list)):\n",
    "        if word_list[i] in new_dictionary:\n",
    "            k=new_dictionary[word_list[i]]\n",
    "            if k not in l:\n",
    "                l.append(k)\n",
    "        else:\n",
    "            l.append(0)\n",
    "    return l"
   ]
  },
  {
   "cell_type": "code",
   "execution_count": 6,
   "metadata": {
    "collapsed": false
   },
   "outputs": [],
   "source": [
    "New_X_train=[]\n",
    "New_X_test=[]\n",
    "for tweet in X_train:\n",
    "    New_X_train.append(change_into_number(tweet))\n",
    "train=np.asarray(New_X_train)\n",
    "\n",
    "for sentense in X_test:\n",
    "    New_X_test.append(change_into_number(sentense))\n",
    "test=np.asarray(New_X_test)"
   ]
  },
  {
   "cell_type": "code",
   "execution_count": 7,
   "metadata": {
    "collapsed": false
   },
   "outputs": [
    {
     "name": "stderr",
     "output_type": "stream",
     "text": [
      "Using TensorFlow backend.\n"
     ]
    },
    {
     "name": "stdout",
     "output_type": "stream",
     "text": [
      "Start construct the vector of train\n",
      "Start construc the vector of test\n"
     ]
    }
   ],
   "source": [
    "from keras.preprocessing import sequence\n",
    "def sent2binaryVector (sentence): \n",
    "    v = np.zeros([k])\n",
    "    for i in range(len(sentence)):\n",
    "        v[sentence[i]-1]=1 \n",
    "    return v\n",
    "\n",
    "\n",
    "\n",
    "def convertCorpus2binary(corpus):\n",
    "    M = np.zeros([len(corpus),k])\n",
    "    i=0\n",
    "    for x in corpus:\n",
    "        v = sent2binaryVector(x)\n",
    "        M[i,:] = v\n",
    "        i+=1\n",
    "    return M\n",
    "print \"Start construct the vector of train\"\n",
    "Vtrain =sequence.pad_sequences(train,maxlen=140)\n",
    "print \"Start construc the vector of test\"\n",
    "Vtest = sequence.pad_sequences(test,maxlen=140)"
   ]
  },
  {
   "cell_type": "code",
   "execution_count": null,
   "metadata": {
    "collapsed": true
   },
   "outputs": [],
   "source": [
    "from sklearn.multiclass import OneVsRestClassifier\n",
    "from sklearn.svm import LinearSVC\n",
    "print \"using the OneVsRestClassifier model to build the model....\"\n",
    "ovrc=OneVsRestClassifier(LinearSVC(random_state=0))\n",
    "model=ovrc.fit(,Y_train_1)"
   ]
  },
  {
   "cell_type": "code",
   "execution_count": 27,
   "metadata": {
    "collapsed": false
   },
   "outputs": [
    {
     "name": "stdout",
     "output_type": "stream",
     "text": [
      "Vtrain: (100000, 140)\n"
     ]
    }
   ],
   "source": [
    "print \"Vtrain:\",Vtest.shape"
   ]
  },
  {
   "cell_type": "code",
   "execution_count": 8,
   "metadata": {
    "collapsed": false
   },
   "outputs": [
    {
     "name": "stdout",
     "output_type": "stream",
     "text": [
      "Building model LSTM...\n"
     ]
    }
   ],
   "source": [
    "print \"Building model LSTM...\"\n",
    "from keras.models import Sequential\n",
    "from keras.layers import Dense, Activation,Embedding\n",
    "from keras.layers import LSTM, SimpleRNN\n",
    "from keras.optimizers import RMSprop, Adam\n",
    "model = Sequential()\n",
    "model.add(Embedding(k,128,dropout=0.2))\n",
    "model.add(LSTM(128,dropout_W=0.2,dropout_U=0.2))\n",
    "model.add(Dense(1))\n",
    "model.add(Activation('sigmoid'))\n",
    "model.compile(loss='binary_crossentropy',optimizer='adam',metrics=['accuracy'])\n"
   ]
  },
  {
   "cell_type": "code",
   "execution_count": 9,
   "metadata": {
    "collapsed": false
   },
   "outputs": [
    {
     "name": "stdout",
     "output_type": "stream",
     "text": [
      "____________________________________________________________________________________________________\n",
      "Layer (type)                     Output Shape          Param #     Connected to                     \n",
      "====================================================================================================\n",
      "embedding_1 (Embedding)          (None, None, 128)     524672      embedding_input_1[0][0]          \n",
      "____________________________________________________________________________________________________\n",
      "lstm_1 (LSTM)                    (None, 128)           131584      embedding_1[0][0]                \n",
      "____________________________________________________________________________________________________\n",
      "dense_1 (Dense)                  (None, 1)             129         lstm_1[0][0]                     \n",
      "____________________________________________________________________________________________________\n",
      "activation_1 (Activation)        (None, 1)             0           dense_1[0][0]                    \n",
      "====================================================================================================\n",
      "Total params: 656,385\n",
      "Trainable params: 656,385\n",
      "Non-trainable params: 0\n",
      "____________________________________________________________________________________________________\n"
     ]
    }
   ],
   "source": [
    "model.summary()"
   ]
  },
  {
   "cell_type": "code",
   "execution_count": 11,
   "metadata": {
    "collapsed": false
   },
   "outputs": [
    {
     "name": "stdout",
     "output_type": "stream",
     "text": [
      "Start Training....\n",
      "Train on 100000 samples, validate on 100000 samples\n",
      "Epoch 1/5\n",
      "100000/100000 [==============================] - 2136s - loss: 0.6113 - acc: 0.6659 - val_loss: 0.5951 - val_acc: 0.6853\n",
      "Epoch 2/5\n",
      "100000/100000 [==============================] - 2155s - loss: 0.5793 - acc: 0.6950 - val_loss: 0.5831 - val_acc: 0.6895\n",
      "Epoch 3/5\n",
      "100000/100000 [==============================] - 2232s - loss: 0.5688 - acc: 0.7023 - val_loss: 0.5806 - val_acc: 0.6875\n",
      "Epoch 4/5\n",
      "100000/100000 [==============================] - 2095s - loss: 0.5618 - acc: 0.7063 - val_loss: 0.6014 - val_acc: 0.6740\n",
      "Epoch 5/5\n",
      "100000/100000 [==============================] - 2082s - loss: 0.5545 - acc: 0.7116 - val_loss: 0.5907 - val_acc: 0.6825\n"
     ]
    }
   ],
   "source": [
    "print \"Start Training....\"\n",
    "history=model.fit(Vtrain, Y_train, batch_size=32, nb_epoch=5,validation_data=(Vtest, Y_test))"
   ]
  },
  {
   "cell_type": "code",
   "execution_count": 12,
   "metadata": {
    "collapsed": false
   },
   "outputs": [
    {
     "name": "stderr",
     "output_type": "stream",
     "text": [
      "//anaconda/lib/python2.7/site-packages/matplotlib/font_manager.py:273: UserWarning: Matplotlib is building the font cache using fc-list. This may take a moment.\n",
      "  warnings.warn('Matplotlib is building the font cache using fc-list. This may take a moment.')\n"
     ]
    },
    {
     "name": "stdout",
     "output_type": "stream",
     "text": [
      "<class 'keras.callbacks.History'>\n",
      "{'acc': [0.66586000000000001, 0.69503000000000004, 0.70230999999999999, 0.70628000000000002, 0.71164000000000005], 'loss': [0.61131004574775694, 0.57932202236175534, 0.56875802316665647, 0.56175575181961057, 0.55448332309722903], 'val_acc': [0.68525000000000003, 0.68947000000000003, 0.68747999999999998, 0.67401, 0.68245999999999996], 'val_loss': [0.59510812142848968, 0.58306574413776402, 0.58064801731109617, 0.601431538734436, 0.59066578504562373]}\n",
      "[0, 1, 2, 3, 4]\n"
     ]
    },
    {
     "data": {
      "image/png": "[encoded data removed]",
      "text/plain": [
       "<matplotlib.figure.Figure at 0x167175e10>"
      ]
     },
     "metadata": {},
     "output_type": "display_data"
    }
   ],
   "source": [
    "import matplotlib.pyplot as plt\n",
    "print type(history)\n",
    "print history.history\n",
    "print history.epoch\n",
    "def graph(history,flag):\n",
    "    plt.ylim(0,+1)\n",
    "    if flag:\n",
    "        plt.plot(np.arange(len(history.epoch)), history.history['acc'])\n",
    "    else:\n",
    "        plt.plot(np.arange(len(history.epoch)), history.history['val_acc'])\n",
    "    plt.title(\"the history\")\n",
    "    plt.show()\n",
    "graph(history,False)\n",
    "poid=model.get_weights()"
   ]
  },
  {
   "cell_type": "code",
   "execution_count": null,
   "metadata": {
    "collapsed": true
   },
   "outputs": [],
   "source": []
  }
 ],
 "metadata": {
  "anaconda-cloud": {},
  "kernelspec": {
   "display_name": "Python [default]",
   "language": "python",
   "name": "python2"
  },
  "language_info": {
   "codemirror_mode": {
    "name": "ipython",
    "version": 2
   },
   "file_extension": ".py",
   "mimetype": "text/x-python",
   "name": "python",
   "nbconvert_exporter": "python",
   "pygments_lexer": "ipython2",
   "version": "2.7.12"
  }
 },
 "nbformat": 4,
 "nbformat_minor": 1
}
